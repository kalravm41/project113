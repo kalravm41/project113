{
  "nbformat": 4,
  "nbformat_minor": 0,
  "metadata": {
    "colab": {
      "name": "project113",
      "provenance": [],
      "authorship_tag": "ABX9TyPsWD/9en3fCWcCogdaAlok",
      "include_colab_link": true
    },
    "kernelspec": {
      "name": "python3",
      "display_name": "Python 3"
    }
  },
  "cells": [
    {
      "cell_type": "markdown",
      "metadata": {
        "id": "view-in-github",
        "colab_type": "text"
      },
      "source": [
        "<a href=\"https://colab.research.google.com/github/kalravm41/project113/blob/main/project113.ipynb\" target=\"_parent\"><img src=\"https://colab.research.google.com/assets/colab-badge.svg\" alt=\"Open In Colab\"/></a>"
      ]
    },
    {
      "cell_type": "code",
      "metadata": {
        "colab": {
          "base_uri": "https://localhost:8080/"
        },
        "id": "rNawba4LT8X_",
        "outputId": "a9017d3a-50e4-41f9-d087-76f091b82328"
      },
      "source": [
        "import pandas as pd\n",
        "import csv\n",
        "import seaborn as sb\n",
        "import statistics as st\n",
        "import plotly.figure_factory as ff\n",
        "import random\n",
        "\n",
        "df = pd.read_csv('data.csv')\n",
        "\n",
        "q1 = df['quant_saved'].quantile(0.25)\n",
        "q2 = df['quant_saved'].quantile(0.75)\n",
        "d = df['quant_saved'].tolist()\n",
        "b = df['rem_any'].tolist()\n",
        "iqr = q2-q1\n",
        "\n",
        "print(f'q1 {q1}')\n",
        "print(f'q2 {q2}')\n",
        "print(f'iqr {iqr}')\n",
        "\n",
        "lowiqr = q1-1.5*iqr\n",
        "highiqr = q2+1.5*iqr\n",
        "\n",
        "mean = st.mean(d)\n",
        "median = st.median(d)\n",
        "mode = st.mode(d)\n",
        "sd = st.stdev(d)\n",
        "\n",
        "print(f'lowiqr: {lowiqr}',f'highiqr: {highiqr}')\n",
        "\n",
        "Sampledata = []\n",
        "for j in range(0,100):\n",
        "  data = d[j]\n",
        "  Sampledata.append(data)\n",
        "\n",
        "mean1 = st.mean(Sampledata)\n",
        "median1 = st.median(Sampledata)\n",
        "sd1 = st.stdev(Sampledata)\n",
        "\n",
        "for i in b:\n",
        "  if i == 1:\n",
        "    reminded = b[i]\n",
        "nreminded = df.loc[df['rem_any'] == 0]\n",
        "\n",
        "print(reminded)"
      ],
      "execution_count": null,
      "outputs": [
        {
          "output_type": "stream",
          "text": [
            "q1 2.2840000000000003\n",
            "q2 86.514\n",
            "iqr 84.22999999999999\n",
            "lowiqr: -124.06099999999998 highiqr: 212.85899999999998\n",
            "1\n"
          ],
          "name": "stdout"
        }
      ]
    }
  ]
}